{
 "cells": [
  {
   "cell_type": "markdown",
   "metadata": {},
   "source": [
    "# Summer school of economics Bogotá 2020\n",
    "### Economic growth and comparative development\n",
    "### Paper replication\n",
    "##### By: María Paula Castañeda \n",
    "\n",
    "Paper: Survival of the richest? Social status, fertility and social mobility in England \n",
    "\n",
    "Authors: NINA BOBERG-FAZLIC, PAUL SHARP AND JACOB WEISDORF"
   ]
  },
  {
   "cell_type": "markdown",
   "metadata": {},
   "source": [
    "### Introduction\n",
    "We use data collected by the Cambridge Group to investigate and explain differences in fertility by socio-economic group in pre-industrial England. We find, in line with results presented by Greg Clark, that wealthier groups did indeed have higher fertility until the 1700s. We demonstrate that this had to do with earlier age at marriage for women. We then turn to the likely social and economic impact of this, considering Clark’s hypothesis that ‘middle-class values’ spread through English society prior to the Industrial Revolution. Through the construction of social mobility tables, we demonstrate that the children of the rich were indeed spreading through society, but they were small in number relative to poorer sections of society, and moreover the children of the poor were also entering the middle classes.\n"
   ]
  },
  {
   "cell_type": "code",
   "execution_count": 12,
   "metadata": {},
   "outputs": [],
   "source": [
    "# Libraries\n",
    "import pandas as pd\n",
    "import numpy as np\n",
    "import matplotlib.pyplot as plt\n",
    "import seaborn as sns\n",
    "#import folium\n",
    "\n",
    "%matplotlib inline"
   ]
  },
  {
   "cell_type": "markdown",
   "metadata": {},
   "source": [
    "This data was requested in the UK Data service. The dataset name is \"26 English parish family reconstitutions\" and is identificated by SN 853082 number. In this link you can download the data http://reshare.ukdataservice.ac.uk/853082/\n"
   ]
  },
  {
   "cell_type": "markdown",
   "metadata": {},
   "source": [
    "### 2. The data "
   ]
  },
  {
   "cell_type": "code",
   "execution_count": 3,
   "metadata": {},
   "outputs": [
    {
     "name": "stderr",
     "output_type": "stream",
     "text": [
      "C:\\Users\\c804268\\AppData\\Local\\Continuum\\anaconda3\\lib\\site-packages\\IPython\\core\\interactiveshell.py:2785: DtypeWarning: Columns (3,6,8,10,12,13,14,21,24,25,26,27,28,29,30,31,32,33,34,35,36,37,38,39,40,41,42,43,44,45,47,48,50,51,52,59,62,63,64,65,66,67,68,70,71,73,74,76,77,79,80,94,96,97,100,101,102,103,104,105,106,107,108,109,111,112,113,114,115,116,117,118,119,120,121,122,123,124,125) have mixed types. Specify dtype option on import or set low_memory=False.\n",
      "  interactivity=interactivity, compiler=compiler, result=result)\n"
     ]
    }
   ],
   "source": [
    "# Load the data\n",
    "data = pd.read_csv('C:/Users/c804268/Documents/Curso_verano/All26FamRecons/26ParishesReconstitutions_ALL_DATA.txt', sep='\\t')"
   ]
  },
  {
   "cell_type": "code",
   "execution_count": 43,
   "metadata": {},
   "outputs": [
    {
     "data": {
      "text/plain": [
       "['marriages_parfrf',\n",
       " 'marriages_parish',\n",
       " 'marriages_FRF',\n",
       " 'marriages_Marriage_Place',\n",
       " 'marriages_MarDate',\n",
       " 'marriages_MarWeighting',\n",
       " 'marriages_MarEndDate',\n",
       " 'marriages_EndWeighting',\n",
       " 'marriages_MarNextDate',\n",
       " 'marriages_NextWeighting',\n",
       " 'marriages_Comments',\n",
       " 'husbands_FRF',\n",
       " 'husbands_Flag',\n",
       " 'husbands_Surname',\n",
       " 'husbands_Forename',\n",
       " 'husbands_BapDate',\n",
       " 'husbands_BapWeighting',\n",
       " 'husbands_BirthDate',\n",
       " 'husbands_BirthWeighting',\n",
       " 'husbands_BurialDate',\n",
       " 'husbands_BurialWeighting',\n",
       " 'husbands_DeathDate',\n",
       " 'husbands_DeathWeighting',\n",
       " 'husbands_MarriageOrder',\n",
       " 'husbands_EarlierFRF',\n",
       " 'husbands_LaterFRF',\n",
       " 'husbands_BapResidence',\n",
       " 'husbands_MarResidence',\n",
       " 'husbands_MarOccupation',\n",
       " 'husbands_BurialRes',\n",
       " 'husbands_BurialOcc',\n",
       " 'husbands_AddDate1',\n",
       " 'husbands_AddRes1',\n",
       " 'husbands_AddOcc1',\n",
       " 'husbands_AddDate2',\n",
       " 'husbands_AddRes2',\n",
       " 'husbands_AddOcc2',\n",
       " 'husbands_AddDate3',\n",
       " 'husbands_AddRes3',\n",
       " 'husbands_AddOcc3',\n",
       " 'husbands_AddDate4',\n",
       " 'husbands_AddRes4',\n",
       " 'husbands_AddOcc4',\n",
       " 'husbands_AddDate5',\n",
       " 'husbands_AddRes5',\n",
       " 'husbands_AddOcc5',\n",
       " 'husbands_AddDate6',\n",
       " 'husbands_AddRes6',\n",
       " 'husbands_AddOcc6',\n",
       " 'wives_FRF',\n",
       " 'wives_Flag',\n",
       " 'wives_Surname',\n",
       " 'wives_Forename',\n",
       " 'wives_BapDate',\n",
       " 'wives_BapWeighting',\n",
       " 'wives_BirthDate',\n",
       " 'wives_BirthWeighting',\n",
       " 'wives_BurialDate',\n",
       " 'wives_BurialWeighting',\n",
       " 'wives_DeathDate',\n",
       " 'wives_DeathWeighting',\n",
       " 'wives_MarriageOrder',\n",
       " 'wives_EarlierFRF',\n",
       " 'wives_LaterFRF',\n",
       " 'wives_BapResidence',\n",
       " 'wives_MarResidence',\n",
       " 'wives_MarOccupation',\n",
       " 'wives_BurialRes',\n",
       " 'wives_BurialOcc',\n",
       " 'wives_AddDate1',\n",
       " 'wives_AddRes1',\n",
       " 'wives_AddOcc1',\n",
       " 'wives_AddDate2',\n",
       " 'wives_AddRes2',\n",
       " 'wives_AddOcc2',\n",
       " 'wives_AddDate3',\n",
       " 'wives_AddRes3',\n",
       " 'wives_AddOcc3',\n",
       " 'wives_AddDate4',\n",
       " 'wives_AddRes4',\n",
       " 'wives_AddOcc4',\n",
       " 'wives_AddDate5',\n",
       " 'wives_AddRes5',\n",
       " 'wives_AddOcc5',\n",
       " 'children_FRF',\n",
       " 'children_ChildNumber',\n",
       " 'children_Flag',\n",
       " 'children_Sex',\n",
       " 'children_BapDate',\n",
       " 'children_BapWeighting',\n",
       " 'children_BirthDate',\n",
       " 'children_BirthWeighting',\n",
       " 'children_BurialDate',\n",
       " 'children_BurialWeighting',\n",
       " 'children_DeathDate',\n",
       " 'children_DeathWeighting',\n",
       " 'children_Status',\n",
       " 'children_Name',\n",
       " 'children_MarDate',\n",
       " 'children_MarWeighting',\n",
       " 'children_FirstMarFRF',\n",
       " 'literacy_FRF',\n",
       " 'literacy_Husband_literacy',\n",
       " 'literacy_Wife_literacy',\n",
       " 'husbandfathers_FRF',\n",
       " 'husbandfathers_Flag',\n",
       " 'husbandfathers_Surname',\n",
       " 'husbandfathers_Forename',\n",
       " 'husbandfathers_Residence',\n",
       " 'husbandfathers_Occupation',\n",
       " 'husbandfathers_OwnFRF',\n",
       " 'husbandmothers_FRF',\n",
       " 'husbandmothers_Flag',\n",
       " 'husbandmothers_Surname',\n",
       " 'husbandmothers_Forename',\n",
       " 'wifefathers_FRF',\n",
       " 'wifefathers_Flag',\n",
       " 'wifefathers_Surname',\n",
       " 'wifefathers_Forename',\n",
       " 'wifefathers_Residence',\n",
       " 'wifefathers_Occupation',\n",
       " 'wifefathers_OwnFRF',\n",
       " 'wifemothers_FRF',\n",
       " 'wifemothers_Flag',\n",
       " 'wifemothers_Surname',\n",
       " 'wifemothers_Forename']"
      ]
     },
     "execution_count": 43,
     "metadata": {},
     "output_type": "execute_result"
    }
   ],
   "source": [
    "[x for x in data.columns]"
   ]
  },
  {
   "cell_type": "code",
   "execution_count": 44,
   "metadata": {},
   "outputs": [],
   "source": [
    "#Exploring the data \n",
    "def missing_values_table(df):\n",
    "    mis_val = df.isnull().sum()\n",
    "    mis_val_percent = 100 * df.isnull().sum()/len(df)\n",
    "    mis_val_table = pd.concat([mis_val, mis_val_percent], axis=1)\n",
    "    mis_val_table_ren_columns = mis_val_table.rename(\n",
    "    columns = {0 : 'Missing Values', 1 : '% of Total Values'})\n",
    "    return mis_val_table_ren_columns"
   ]
  },
  {
   "cell_type": "code",
   "execution_count": 45,
   "metadata": {
    "collapsed": true
   },
   "outputs": [
    {
     "data": {
      "text/html": [
       "<div>\n",
       "<style scoped>\n",
       "    .dataframe tbody tr th:only-of-type {\n",
       "        vertical-align: middle;\n",
       "    }\n",
       "\n",
       "    .dataframe tbody tr th {\n",
       "        vertical-align: top;\n",
       "    }\n",
       "\n",
       "    .dataframe thead th {\n",
       "        text-align: right;\n",
       "    }\n",
       "</style>\n",
       "<table border=\"1\" class=\"dataframe\">\n",
       "  <thead>\n",
       "    <tr style=\"text-align: right;\">\n",
       "      <th></th>\n",
       "      <th>Missing Values</th>\n",
       "      <th>% of Total Values</th>\n",
       "    </tr>\n",
       "  </thead>\n",
       "  <tbody>\n",
       "    <tr>\n",
       "      <th>marriages_parfrf</th>\n",
       "      <td>0</td>\n",
       "      <td>0.000000</td>\n",
       "    </tr>\n",
       "    <tr>\n",
       "      <th>marriages_parish</th>\n",
       "      <td>0</td>\n",
       "      <td>0.000000</td>\n",
       "    </tr>\n",
       "    <tr>\n",
       "      <th>marriages_FRF</th>\n",
       "      <td>0</td>\n",
       "      <td>0.000000</td>\n",
       "    </tr>\n",
       "    <tr>\n",
       "      <th>marriages_Marriage_Place</th>\n",
       "      <td>122820</td>\n",
       "      <td>40.097158</td>\n",
       "    </tr>\n",
       "    <tr>\n",
       "      <th>marriages_MarDate</th>\n",
       "      <td>116262</td>\n",
       "      <td>37.956161</td>\n",
       "    </tr>\n",
       "    <tr>\n",
       "      <th>marriages_MarWeighting</th>\n",
       "      <td>302336</td>\n",
       "      <td>98.703910</td>\n",
       "    </tr>\n",
       "    <tr>\n",
       "      <th>marriages_MarEndDate</th>\n",
       "      <td>218157</td>\n",
       "      <td>71.221915</td>\n",
       "    </tr>\n",
       "    <tr>\n",
       "      <th>marriages_EndWeighting</th>\n",
       "      <td>305293</td>\n",
       "      <td>99.669285</td>\n",
       "    </tr>\n",
       "    <tr>\n",
       "      <th>marriages_MarNextDate</th>\n",
       "      <td>289048</td>\n",
       "      <td>94.365765</td>\n",
       "    </tr>\n",
       "    <tr>\n",
       "      <th>marriages_NextWeighting</th>\n",
       "      <td>306024</td>\n",
       "      <td>99.907935</td>\n",
       "    </tr>\n",
       "    <tr>\n",
       "      <th>marriages_Comments</th>\n",
       "      <td>305441</td>\n",
       "      <td>99.717603</td>\n",
       "    </tr>\n",
       "    <tr>\n",
       "      <th>husbands_FRF</th>\n",
       "      <td>2750</td>\n",
       "      <td>0.897795</td>\n",
       "    </tr>\n",
       "    <tr>\n",
       "      <th>husbands_Flag</th>\n",
       "      <td>262464</td>\n",
       "      <td>85.686862</td>\n",
       "    </tr>\n",
       "    <tr>\n",
       "      <th>husbands_Surname</th>\n",
       "      <td>17325</td>\n",
       "      <td>5.656109</td>\n",
       "    </tr>\n",
       "    <tr>\n",
       "      <th>husbands_Forename</th>\n",
       "      <td>18219</td>\n",
       "      <td>5.947974</td>\n",
       "    </tr>\n",
       "    <tr>\n",
       "      <th>husbands_BapDate</th>\n",
       "      <td>200357</td>\n",
       "      <td>65.410733</td>\n",
       "    </tr>\n",
       "    <tr>\n",
       "      <th>husbands_BapWeighting</th>\n",
       "      <td>305737</td>\n",
       "      <td>99.814238</td>\n",
       "    </tr>\n",
       "    <tr>\n",
       "      <th>husbands_BirthDate</th>\n",
       "      <td>276839</td>\n",
       "      <td>90.379882</td>\n",
       "    </tr>\n",
       "    <tr>\n",
       "      <th>husbands_BirthWeighting</th>\n",
       "      <td>281866</td>\n",
       "      <td>92.021051</td>\n",
       "    </tr>\n",
       "    <tr>\n",
       "      <th>husbands_BurialDate</th>\n",
       "      <td>155252</td>\n",
       "      <td>50.685262</td>\n",
       "    </tr>\n",
       "    <tr>\n",
       "      <th>husbands_BurialWeighting</th>\n",
       "      <td>305482</td>\n",
       "      <td>99.730988</td>\n",
       "    </tr>\n",
       "    <tr>\n",
       "      <th>husbands_DeathDate</th>\n",
       "      <td>298739</td>\n",
       "      <td>97.529595</td>\n",
       "    </tr>\n",
       "    <tr>\n",
       "      <th>husbands_DeathWeighting</th>\n",
       "      <td>302353</td>\n",
       "      <td>98.709460</td>\n",
       "    </tr>\n",
       "    <tr>\n",
       "      <th>husbands_MarriageOrder</th>\n",
       "      <td>3275</td>\n",
       "      <td>1.069192</td>\n",
       "    </tr>\n",
       "    <tr>\n",
       "      <th>husbands_EarlierFRF</th>\n",
       "      <td>286999</td>\n",
       "      <td>93.696826</td>\n",
       "    </tr>\n",
       "    <tr>\n",
       "      <th>husbands_LaterFRF</th>\n",
       "      <td>284046</td>\n",
       "      <td>92.732757</td>\n",
       "    </tr>\n",
       "    <tr>\n",
       "      <th>husbands_BapResidence</th>\n",
       "      <td>250196</td>\n",
       "      <td>81.681717</td>\n",
       "    </tr>\n",
       "    <tr>\n",
       "      <th>husbands_MarResidence</th>\n",
       "      <td>195368</td>\n",
       "      <td>63.781970</td>\n",
       "    </tr>\n",
       "    <tr>\n",
       "      <th>husbands_MarOccupation</th>\n",
       "      <td>276066</td>\n",
       "      <td>90.127520</td>\n",
       "    </tr>\n",
       "    <tr>\n",
       "      <th>husbands_BurialRes</th>\n",
       "      <td>238574</td>\n",
       "      <td>77.887472</td>\n",
       "    </tr>\n",
       "    <tr>\n",
       "      <th>...</th>\n",
       "      <td>...</td>\n",
       "      <td>...</td>\n",
       "    </tr>\n",
       "    <tr>\n",
       "      <th>children_Status</th>\n",
       "      <td>264312</td>\n",
       "      <td>86.290180</td>\n",
       "    </tr>\n",
       "    <tr>\n",
       "      <th>children_Name</th>\n",
       "      <td>107782</td>\n",
       "      <td>35.187688</td>\n",
       "    </tr>\n",
       "    <tr>\n",
       "      <th>children_MarDate</th>\n",
       "      <td>263529</td>\n",
       "      <td>86.034554</td>\n",
       "    </tr>\n",
       "    <tr>\n",
       "      <th>children_MarWeighting</th>\n",
       "      <td>305735</td>\n",
       "      <td>99.813585</td>\n",
       "    </tr>\n",
       "    <tr>\n",
       "      <th>children_FirstMarFRF</th>\n",
       "      <td>260161</td>\n",
       "      <td>84.935000</td>\n",
       "    </tr>\n",
       "    <tr>\n",
       "      <th>literacy_FRF</th>\n",
       "      <td>247620</td>\n",
       "      <td>80.840728</td>\n",
       "    </tr>\n",
       "    <tr>\n",
       "      <th>literacy_Husband_literacy</th>\n",
       "      <td>248058</td>\n",
       "      <td>80.983722</td>\n",
       "    </tr>\n",
       "    <tr>\n",
       "      <th>literacy_Wife_literacy</th>\n",
       "      <td>250290</td>\n",
       "      <td>81.712405</td>\n",
       "    </tr>\n",
       "    <tr>\n",
       "      <th>husbandfathers_FRF</th>\n",
       "      <td>190829</td>\n",
       "      <td>62.300118</td>\n",
       "    </tr>\n",
       "    <tr>\n",
       "      <th>husbandfathers_Flag</th>\n",
       "      <td>306220</td>\n",
       "      <td>99.971924</td>\n",
       "    </tr>\n",
       "    <tr>\n",
       "      <th>husbandfathers_Surname</th>\n",
       "      <td>202045</td>\n",
       "      <td>65.961816</td>\n",
       "    </tr>\n",
       "    <tr>\n",
       "      <th>husbandfathers_Forename</th>\n",
       "      <td>200519</td>\n",
       "      <td>65.463621</td>\n",
       "    </tr>\n",
       "    <tr>\n",
       "      <th>husbandfathers_Residence</th>\n",
       "      <td>246739</td>\n",
       "      <td>80.553107</td>\n",
       "    </tr>\n",
       "    <tr>\n",
       "      <th>husbandfathers_Occupation</th>\n",
       "      <td>267515</td>\n",
       "      <td>87.335867</td>\n",
       "    </tr>\n",
       "    <tr>\n",
       "      <th>husbandfathers_OwnFRF</th>\n",
       "      <td>210417</td>\n",
       "      <td>68.695030</td>\n",
       "    </tr>\n",
       "    <tr>\n",
       "      <th>husbandmothers_FRF</th>\n",
       "      <td>231302</td>\n",
       "      <td>75.513376</td>\n",
       "    </tr>\n",
       "    <tr>\n",
       "      <th>husbandmothers_Flag</th>\n",
       "      <td>306297</td>\n",
       "      <td>99.997062</td>\n",
       "    </tr>\n",
       "    <tr>\n",
       "      <th>husbandmothers_Surname</th>\n",
       "      <td>251907</td>\n",
       "      <td>82.240309</td>\n",
       "    </tr>\n",
       "    <tr>\n",
       "      <th>husbandmothers_Forename</th>\n",
       "      <td>231469</td>\n",
       "      <td>75.567896</td>\n",
       "    </tr>\n",
       "    <tr>\n",
       "      <th>wifefathers_FRF</th>\n",
       "      <td>220956</td>\n",
       "      <td>72.135707</td>\n",
       "    </tr>\n",
       "    <tr>\n",
       "      <th>wifefathers_Flag</th>\n",
       "      <td>306291</td>\n",
       "      <td>99.995103</td>\n",
       "    </tr>\n",
       "    <tr>\n",
       "      <th>wifefathers_Surname</th>\n",
       "      <td>230961</td>\n",
       "      <td>75.402049</td>\n",
       "    </tr>\n",
       "    <tr>\n",
       "      <th>wifefathers_Forename</th>\n",
       "      <td>228115</td>\n",
       "      <td>74.472913</td>\n",
       "    </tr>\n",
       "    <tr>\n",
       "      <th>wifefathers_Residence</th>\n",
       "      <td>259119</td>\n",
       "      <td>84.594817</td>\n",
       "    </tr>\n",
       "    <tr>\n",
       "      <th>wifefathers_Occupation</th>\n",
       "      <td>275681</td>\n",
       "      <td>90.001828</td>\n",
       "    </tr>\n",
       "    <tr>\n",
       "      <th>wifefathers_OwnFRF</th>\n",
       "      <td>233240</td>\n",
       "      <td>76.146076</td>\n",
       "    </tr>\n",
       "    <tr>\n",
       "      <th>wifemothers_FRF</th>\n",
       "      <td>250093</td>\n",
       "      <td>81.648090</td>\n",
       "    </tr>\n",
       "    <tr>\n",
       "      <th>wifemothers_Flag</th>\n",
       "      <td>306298</td>\n",
       "      <td>99.997388</td>\n",
       "    </tr>\n",
       "    <tr>\n",
       "      <th>wifemothers_Surname</th>\n",
       "      <td>263949</td>\n",
       "      <td>86.171671</td>\n",
       "    </tr>\n",
       "    <tr>\n",
       "      <th>wifemothers_Forename</th>\n",
       "      <td>250192</td>\n",
       "      <td>81.680411</td>\n",
       "    </tr>\n",
       "  </tbody>\n",
       "</table>\n",
       "<p>126 rows × 2 columns</p>\n",
       "</div>"
      ],
      "text/plain": [
       "                           Missing Values  % of Total Values\n",
       "marriages_parfrf                        0           0.000000\n",
       "marriages_parish                        0           0.000000\n",
       "marriages_FRF                           0           0.000000\n",
       "marriages_Marriage_Place           122820          40.097158\n",
       "marriages_MarDate                  116262          37.956161\n",
       "marriages_MarWeighting             302336          98.703910\n",
       "marriages_MarEndDate               218157          71.221915\n",
       "marriages_EndWeighting             305293          99.669285\n",
       "marriages_MarNextDate              289048          94.365765\n",
       "marriages_NextWeighting            306024          99.907935\n",
       "marriages_Comments                 305441          99.717603\n",
       "husbands_FRF                         2750           0.897795\n",
       "husbands_Flag                      262464          85.686862\n",
       "husbands_Surname                    17325           5.656109\n",
       "husbands_Forename                   18219           5.947974\n",
       "husbands_BapDate                   200357          65.410733\n",
       "husbands_BapWeighting              305737          99.814238\n",
       "husbands_BirthDate                 276839          90.379882\n",
       "husbands_BirthWeighting            281866          92.021051\n",
       "husbands_BurialDate                155252          50.685262\n",
       "husbands_BurialWeighting           305482          99.730988\n",
       "husbands_DeathDate                 298739          97.529595\n",
       "husbands_DeathWeighting            302353          98.709460\n",
       "husbands_MarriageOrder               3275           1.069192\n",
       "husbands_EarlierFRF                286999          93.696826\n",
       "husbands_LaterFRF                  284046          92.732757\n",
       "husbands_BapResidence              250196          81.681717\n",
       "husbands_MarResidence              195368          63.781970\n",
       "husbands_MarOccupation             276066          90.127520\n",
       "husbands_BurialRes                 238574          77.887472\n",
       "...                                   ...                ...\n",
       "children_Status                    264312          86.290180\n",
       "children_Name                      107782          35.187688\n",
       "children_MarDate                   263529          86.034554\n",
       "children_MarWeighting              305735          99.813585\n",
       "children_FirstMarFRF               260161          84.935000\n",
       "literacy_FRF                       247620          80.840728\n",
       "literacy_Husband_literacy          248058          80.983722\n",
       "literacy_Wife_literacy             250290          81.712405\n",
       "husbandfathers_FRF                 190829          62.300118\n",
       "husbandfathers_Flag                306220          99.971924\n",
       "husbandfathers_Surname             202045          65.961816\n",
       "husbandfathers_Forename            200519          65.463621\n",
       "husbandfathers_Residence           246739          80.553107\n",
       "husbandfathers_Occupation          267515          87.335867\n",
       "husbandfathers_OwnFRF              210417          68.695030\n",
       "husbandmothers_FRF                 231302          75.513376\n",
       "husbandmothers_Flag                306297          99.997062\n",
       "husbandmothers_Surname             251907          82.240309\n",
       "husbandmothers_Forename            231469          75.567896\n",
       "wifefathers_FRF                    220956          72.135707\n",
       "wifefathers_Flag                   306291          99.995103\n",
       "wifefathers_Surname                230961          75.402049\n",
       "wifefathers_Forename               228115          74.472913\n",
       "wifefathers_Residence              259119          84.594817\n",
       "wifefathers_Occupation             275681          90.001828\n",
       "wifefathers_OwnFRF                 233240          76.146076\n",
       "wifemothers_FRF                    250093          81.648090\n",
       "wifemothers_Flag                   306298          99.997388\n",
       "wifemothers_Surname                263949          86.171671\n",
       "wifemothers_Forename               250192          81.680411\n",
       "\n",
       "[126 rows x 2 columns]"
      ]
     },
     "execution_count": 45,
     "metadata": {},
     "output_type": "execute_result"
    }
   ],
   "source": [
    "missing_values_table(data)"
   ]
  },
  {
   "cell_type": "markdown",
   "metadata": {},
   "source": [
    "### Parishes "
   ]
  },
  {
   "cell_type": "code",
   "execution_count": 5,
   "metadata": {},
   "outputs": [],
   "source": [
    "parishes = pd.read_excel(\"C:/Users/c804268/Documents/Curso_verano/Coordenadas.xlsx\")"
   ]
  },
  {
   "cell_type": "code",
   "execution_count": 6,
   "metadata": {},
   "outputs": [],
   "source": [
    "parishes[\"Latitud\"] = parishes[\"Latitud\"].astype('float64')\n",
    "parishes[\"Longitud\"] = parishes[\"Longitud\"].astype('float64')"
   ]
  },
  {
   "cell_type": "code",
   "execution_count": 7,
   "metadata": {},
   "outputs": [],
   "source": [
    "latmean = parishes[\"Latitud\"].mean()\n",
    "lonmean = parishes[\"Longitud\"].mean()"
   ]
  },
  {
   "cell_type": "code",
   "execution_count": 10,
   "metadata": {},
   "outputs": [],
   "source": [
    "m = folium.Map(location=[latmean, lonmean], zoom_start=5.5)"
   ]
  },
  {
   "cell_type": "code",
   "execution_count": 11,
   "metadata": {},
   "outputs": [],
   "source": [
    "for lat,lon,name in zip(data['Latitud'],data['Longitud'],data[\"Parish, county\"]):\n",
    "    folium.Marker(location=[lat,lon],popup = name,icon= folium.Icon(color=\"green\")).add_to(m)"
   ]
  },
  {
   "cell_type": "code",
   "execution_count": null,
   "metadata": {},
   "outputs": [],
   "source": [
    "m"
   ]
  },
  {
   "cell_type": "markdown",
   "metadata": {},
   "source": [
    "In the map it is possible to see that the sample of the 26 parishes covers the great majority of the territory of England."
   ]
  },
  {
   "cell_type": "markdown",
   "metadata": {},
   "source": [
    "### 2.1. Description of the data "
   ]
  },
  {
   "cell_type": "code",
   "execution_count": 48,
   "metadata": {},
   "outputs": [],
   "source": [
    "# Filter the husband dataset \n",
    "husbands = data[[\"husbands_BapDate\" , \"husbands_BapWeighting\" , \"husbands_BirthDate\" , \"husbands_BirthWeighting\" , \"husbands_BurialDate\" ,\n",
    "                     \"husbands_BurialWeighting\", \"husbands_DeathDate\",\"husbands_DeathWeighting\",\"husbands_MarriageOrder\",\"husbands_EarlierFRF\",\n",
    "                     \"husbands_LaterFRF\",\"husbands_BapResidence\",\"husbands_MarResidence\",\"husbands_MarOccupation\",\"husbands_BurialRes\",\n",
    "                     \"husbands_BurialOcc\",\"husbands_AddDate1\",\"husbands_AddRes1\",\"husbands_AddOcc1\",\"husbands_AddDate2\",\"husbands_AddRes2\",\n",
    "                     \"husbands_AddOcc2\",\"husbands_AddDate3\",\"husbands_AddRes3\",\"husbands_AddOcc3\",\"husbands_AddDate4\",\"husbands_AddRes4\",\n",
    "                     \"husbands_AddOcc4\",\"husbands_AddDate5\",\"husbands_AddRes5\",\"husbands_AddOcc5\",\"husbands_AddDate6\",\"husbands_AddRes6\",\n",
    "                     \"husbands_AddOcc6\",'marriages_parfrf', 'marriages_MarDate','children_ChildNumber','children_BirthDate' ]]"
   ]
  },
  {
   "cell_type": "code",
   "execution_count": 49,
   "metadata": {},
   "outputs": [
    {
     "name": "stderr",
     "output_type": "stream",
     "text": [
      "C:\\Users\\c804268\\AppData\\Local\\Continuum\\anaconda3\\lib\\site-packages\\ipykernel_launcher.py:1: SettingWithCopyWarning: \n",
      "A value is trying to be set on a copy of a slice from a DataFrame.\n",
      "Try using .loc[row_indexer,col_indexer] = value instead\n",
      "\n",
      "See the caveats in the documentation: http://pandas.pydata.org/pandas-docs/stable/indexing.html#indexing-view-versus-copy\n",
      "  \"\"\"Entry point for launching an IPython kernel.\n"
     ]
    }
   ],
   "source": [
    "husbands['children'] = np.where(husbands['children_ChildNumber'].notnull(),1,0)"
   ]
  },
  {
   "cell_type": "code",
   "execution_count": 50,
   "metadata": {},
   "outputs": [],
   "source": [
    "df_sons_marriage = husbands.groupby([\"marriages_parfrf\"], as_index=False).agg({\"children\": \"sum\"})"
   ]
  },
  {
   "cell_type": "code",
   "execution_count": 51,
   "metadata": {},
   "outputs": [],
   "source": [
    "husbands = husbands.merge(df_sons_marriage, how='left', on=[\"marriages_parfrf\"])"
   ]
  },
  {
   "cell_type": "code",
   "execution_count": 52,
   "metadata": {},
   "outputs": [],
   "source": [
    "#Filter just this husbands that were fathers \n",
    "fathers = husbands[husbands['children_y']!=0]"
   ]
  },
  {
   "cell_type": "code",
   "execution_count": 53,
   "metadata": {},
   "outputs": [],
   "source": [
    "fathers = fathers.drop_duplicates(subset=['marriages_parfrf'])"
   ]
  },
  {
   "cell_type": "code",
   "execution_count": 54,
   "metadata": {},
   "outputs": [
    {
     "data": {
      "text/plain": [
       "(80708, 40)"
      ]
     },
     "execution_count": 54,
     "metadata": {},
     "output_type": "execute_result"
    }
   ],
   "source": [
    "fathers.shape"
   ]
  },
  {
   "cell_type": "code",
   "execution_count": 55,
   "metadata": {},
   "outputs": [],
   "source": [
    "# Delete records that have no burial date \n",
    "fathers = fathers.dropna(axis=0,subset=['husbands_BurialDate'])"
   ]
  },
  {
   "cell_type": "code",
   "execution_count": 56,
   "metadata": {},
   "outputs": [],
   "source": [
    "# Delete record before 1825 \n",
    "fathers['marriages_MarDate'] = pd.to_datetime(fathers['marriages_MarDate'], errors='coerce', format= '%d-%m-%Y')\n",
    "fathers['children_BirthDate'] = pd.to_datetime(fathers['children_BirthDate'], errors='coerce', format= '%d-%m-%Y')"
   ]
  },
  {
   "cell_type": "code",
   "execution_count": 58,
   "metadata": {},
   "outputs": [],
   "source": [
    "fathers['date'] = fathers['marriages_MarDate'].fillna(fathers['children_BirthDate'])"
   ]
  },
  {
   "cell_type": "code",
   "execution_count": 59,
   "metadata": {},
   "outputs": [],
   "source": [
    "fathers['year'] = pd.DatetimeIndex(fathers['date']).year"
   ]
  },
  {
   "cell_type": "code",
   "execution_count": 68,
   "metadata": {},
   "outputs": [
    {
     "data": {
      "text/plain": [
       "(34709, 43)"
      ]
     },
     "execution_count": 68,
     "metadata": {},
     "output_type": "execute_result"
    }
   ],
   "source": [
    "fathers.shape"
   ]
  },
  {
   "cell_type": "code",
   "execution_count": 65,
   "metadata": {},
   "outputs": [
    {
     "name": "stderr",
     "output_type": "stream",
     "text": [
      "C:\\Users\\c804268\\AppData\\Local\\Continuum\\anaconda3\\lib\\site-packages\\ipykernel_launcher.py:2: SettingWithCopyWarning: \n",
      "A value is trying to be set on a copy of a slice from a DataFrame.\n",
      "Try using .loc[row_indexer,col_indexer] = value instead\n",
      "\n",
      "See the caveats in the documentation: http://pandas.pydata.org/pandas-docs/stable/indexing.html#indexing-view-versus-copy\n",
      "  \n"
     ]
    }
   ],
   "source": [
    "# Using the father's occupation at the time of his death for those who have no occupation at the time of marriage\n",
    "fathers_new['husbands_occufinal'] = fathers_new['husbands_MarOccupation'].fillna(fathers_new['husbands_BurialOcc'])"
   ]
  },
  {
   "cell_type": "markdown",
   "metadata": {},
   "source": [
    "This transformation leaves us with about 10 thousand records for the analysis of fertility according to social class. As mentioned in the paper in the description of the data on page five"
   ]
  },
  {
   "cell_type": "markdown",
   "metadata": {},
   "source": [
    "### 2.2. Availability and classification of occupations "
   ]
  },
  {
   "cell_type": "code",
   "execution_count": 99,
   "metadata": {},
   "outputs": [],
   "source": [
    "## Plot the frequency of occuptions \n",
    "freq = pd.DataFrame(fathers[[\"year\", 'husbands_occufinal']]['year'].value_counts()).reset_index()\n",
    "freq.columns = [\"year\", \"freq_year\"]\n",
    "freq = freq.sort_values(by=[\"year\"], ascending=True)\n",
    "freq = freq[freq[\"year\"]<1825]"
   ]
  },
  {
   "cell_type": "code",
   "execution_count": 108,
   "metadata": {},
   "outputs": [
    {
     "data": {
      "image/png": "[encoded data removed]",
      "text/plain": [
       "<Figure size 1080x576 with 1 Axes>"
      ]
     },
     "metadata": {
      "needs_background": "light"
     },
     "output_type": "display_data"
    }
   ],
   "source": [
    "#Graph\n",
    "fig = plt.gcf()\n",
    "fig.set_size_inches(15, 8)\n",
    "\n",
    "# Create bars\n",
    "plt.bar(freq[\"year\"].tolist(), freq[\"freq_year\"].tolist())\n",
    " \n",
    "# Show graphic\n",
    "plt.show()"
   ]
  },
  {
   "cell_type": "markdown",
   "metadata": {},
   "source": []
  },
  {
   "cell_type": "code",
   "execution_count": 69,
   "metadata": {},
   "outputs": [
    {
     "data": {
      "text/plain": [
       "husbands_BapDate            21281\n",
       "husbands_BapWeighting       34592\n",
       "husbands_BirthDate          30650\n",
       "husbands_BirthWeighting     31078\n",
       "husbands_BurialDate             0\n",
       "husbands_BurialWeighting    34508\n",
       "husbands_DeathDate          34043\n",
       "husbands_DeathWeighting     34701\n",
       "husbands_MarriageOrder         41\n",
       "husbands_EarlierFRF         31374\n",
       "husbands_LaterFRF           30520\n",
       "husbands_BapResidence       28725\n",
       "husbands_MarResidence       23692\n",
       "husbands_MarOccupation      31926\n",
       "husbands_BurialRes          19967\n",
       "husbands_BurialOcc          25490\n",
       "husbands_AddDate1           19964\n",
       "husbands_AddRes1            23927\n",
       "husbands_AddOcc1            25387\n",
       "husbands_AddDate2           29904\n",
       "husbands_AddRes2            30981\n",
       "husbands_AddOcc2            31512\n",
       "husbands_AddDate3           32919\n",
       "husbands_AddRes3            33107\n",
       "husbands_AddOcc3            33740\n",
       "husbands_AddDate4           33965\n",
       "husbands_AddRes4            34003\n",
       "husbands_AddOcc4            34309\n",
       "husbands_AddDate5           34399\n",
       "husbands_AddRes5            34408\n",
       "husbands_AddOcc5            34526\n",
       "husbands_AddDate6           34709\n",
       "husbands_AddRes6            34709\n",
       "husbands_AddOcc6            34709\n",
       "marriages_parfrf                0\n",
       "marriages_MarDate           22113\n",
       "children_ChildNumber            0\n",
       "children_BirthDate          32384\n",
       "children_x                      0\n",
       "children_y                      0\n",
       "date                        21162\n",
       "year                        21162\n",
       "husbands_occufinal          23759\n",
       "dtype: int64"
      ]
     },
     "execution_count": 69,
     "metadata": {},
     "output_type": "execute_result"
    }
   ],
   "source": [
    "fathers.isnull().sum()"
   ]
  },
  {
   "cell_type": "code",
   "execution_count": null,
   "metadata": {},
   "outputs": [],
   "source": []
  }
 ],
 "metadata": {
  "kernelspec": {
   "display_name": "Python 3",
   "language": "python",
   "name": "python3"
  },
  "language_info": {
   "codemirror_mode": {
    "name": "ipython",
    "version": 3
   },
   "file_extension": ".py",
   "mimetype": "text/x-python",
   "name": "python",
   "nbconvert_exporter": "python",
   "pygments_lexer": "ipython3",
   "version": "3.7.0"
  }
 },
 "nbformat": 4,
 "nbformat_minor": 2
}
